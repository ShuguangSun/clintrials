{
 "cells": [
  {
   "cell_type": "markdown",
   "metadata": {
    "collapsed": true
   },
   "source": [
    "# Implementing the EffTox Dose-Finding Design in the Matchpoint Trials"
   ]
  },
  {
   "cell_type": "markdown",
   "metadata": {},
   "source": [
    "Brock _et al_., in submission"
   ]
  },
  {
   "cell_type": "markdown",
   "metadata": {},
   "source": [
    "## Dose Ambivalence"
   ]
  },
  {
   "cell_type": "code",
   "execution_count": 1,
   "metadata": {
    "collapsed": false
   },
   "outputs": [
    {
     "name": "stderr",
     "output_type": "stream",
     "text": [
      "//anaconda/lib/python2.7/site-packages/matplotlib/font_manager.py:273: UserWarning: Matplotlib is building the font cache using fc-list. This may take a moment.\n",
      "  warnings.warn('Matplotlib is building the font cache using fc-list. This may take a moment.')\n"
     ]
    }
   ],
   "source": [
    "import numpy as np\n",
    "from scipy.stats import norm\n",
    "\n",
    "from clintrials.dosefinding.efftox import EffTox, LpNormCurve"
   ]
  },
  {
   "cell_type": "code",
   "execution_count": 2,
   "metadata": {
    "collapsed": true
   },
   "outputs": [],
   "source": [
    "real_doses = [7.5, 15, 30, 45]\n",
    "trial_size = 30\n",
    "cohort_size = 3\n",
    "first_dose = 3\n",
    "prior_tox_probs = (0.025, 0.05, 0.1, 0.25)\n",
    "prior_eff_probs = (0.2, 0.3, 0.5, 0.6)\n",
    "tox_cutoff = 0.40\n",
    "eff_cutoff = 0.45\n",
    "tox_certainty = 0.05\n",
    "eff_certainty = 0.03"
   ]
  },
  {
   "cell_type": "code",
   "execution_count": 3,
   "metadata": {
    "collapsed": true
   },
   "outputs": [],
   "source": [
    "mu_t_mean, mu_t_sd = -5.4317, 2.7643\n",
    "beta_t_mean, beta_t_sd = 3.1761, 2.7703\n",
    "mu_e_mean, mu_e_sd = -0.8442, 1.9786\n",
    "beta_e_1_mean, beta_e_1_sd = 1.9857, 1.9820\n",
    "beta_e_2_mean, beta_e_2_sd = 0, 0.2\n",
    "psi_mean, psi_sd = 0, 1\n",
    "efftox_priors = [\n",
    "    norm(loc=mu_t_mean, scale=mu_t_sd),\n",
    "    norm(loc=beta_t_mean, scale=beta_t_sd),\n",
    "    norm(loc=mu_e_mean, scale=mu_e_sd),\n",
    "    norm(loc=beta_e_1_mean, scale=beta_e_1_sd),\n",
    "    norm(loc=beta_e_2_mean, scale=beta_e_2_sd),\n",
    "    norm(loc=psi_mean, scale=psi_sd),\n",
    "    ]"
   ]
  },
  {
   "cell_type": "code",
   "execution_count": 4,
   "metadata": {
    "collapsed": true
   },
   "outputs": [],
   "source": [
    "hinge_points = [(0.4, 0), (1, 0.7), (0.5, 0.4)]\n",
    "metric = LpNormCurve(hinge_points[0][0], hinge_points[1][1], hinge_points[2][0], hinge_points[2][1])"
   ]
  },
  {
   "cell_type": "code",
   "execution_count": 5,
   "metadata": {
    "collapsed": true
   },
   "outputs": [],
   "source": [
    "et = EffTox(real_doses, efftox_priors, tox_cutoff, eff_cutoff, tox_certainty, eff_certainty, metric, trial_size,\n",
    "            first_dose)"
   ]
  },
  {
   "cell_type": "markdown",
   "metadata": {},
   "source": [
    "## Dose ambivalence after 3NTE"
   ]
  },
  {
   "cell_type": "markdown",
   "metadata": {},
   "source": [
    "Outcomes for a patient are represented by a three item tuple, where:\n",
    "\n",
    "- first item is 1-based dose-index give (i.e. 3 is dose-level 3);\n",
    "- second item is 1 if toxicity happened, else 0;\n",
    "- third item is 1 if efficacy happened, else 0.\n",
    "\n",
    "Outcomes for several patients are represented as lists:"
   ]
  },
  {
   "cell_type": "markdown",
   "metadata": {
    "collapsed": true
   },
   "source": [
    "outcomes = [(3, 0, 0), (3, 1, 0), (3, 1, 0),\n",
    "            (3, 0, 1), (3, 0, 1), (3, 0, 0),\n",
    "           ]"
   ]
  },
  {
   "cell_type": "code",
   "execution_count": 42,
   "metadata": {
    "collapsed": true
   },
   "outputs": [],
   "source": [
    "outcomes = [(3, 0, 0), (3, 1, 0), (3, 0, 1)]"
   ]
  },
  {
   "cell_type": "code",
   "execution_count": 43,
   "metadata": {
    "collapsed": false
   },
   "outputs": [
    {
     "data": {
      "text/plain": [
       "3"
      ]
     },
     "execution_count": 43,
     "metadata": {},
     "output_type": "execute_result"
    }
   ],
   "source": [
    "et.reset()\n",
    "np.random.seed(123)\n",
    "et.update(outcomes)"
   ]
  },
  {
   "cell_type": "code",
   "execution_count": 44,
   "metadata": {
    "collapsed": false
   },
   "outputs": [
    {
     "data": {
      "text/plain": [
       "4"
      ]
     },
     "execution_count": 44,
     "metadata": {},
     "output_type": "execute_result"
    }
   ],
   "source": [
    "et.reset()\n",
    "np.random.seed(321)\n",
    "et.update(outcomes)"
   ]
  },
  {
   "cell_type": "markdown",
   "metadata": {},
   "source": [
    "We define a simple function to calculate next dose based on some outcomes:"
   ]
  },
  {
   "cell_type": "code",
   "execution_count": 45,
   "metadata": {
    "collapsed": true
   },
   "outputs": [],
   "source": [
    "def get_next_dose(trial, outcomes, **kwargs):\n",
    "    trial.reset()\n",
    "    next_dose = trial.update(outcomes, **kwargs)\n",
    "    return next_dose"
   ]
  },
  {
   "cell_type": "markdown",
   "metadata": {},
   "source": [
    "And then run that a number of times. For indication, 100 iterations will suffice. It takes a wee while..."
   ]
  },
  {
   "cell_type": "code",
   "execution_count": 46,
   "metadata": {
    "collapsed": false
   },
   "outputs": [],
   "source": [
    "np.random.seed(123)\n",
    "replicates = [get_next_dose(et, outcomes1, n=10**5) for i in range(100)]"
   ]
  },
  {
   "cell_type": "code",
   "execution_count": 47,
   "metadata": {
    "collapsed": false
   },
   "outputs": [
    {
     "data": {
      "text/plain": [
       "[(3, 0.56000000000000005), (4, 0.44)]"
      ]
     },
     "execution_count": 47,
     "metadata": {},
     "output_type": "execute_result"
    }
   ],
   "source": [
    "doses, freq = np.unique(replicates, return_counts=True)\n",
    "zip(doses, 1.0 * freq / len(replicates))"
   ]
  },
  {
   "cell_type": "code",
   "execution_count": 48,
   "metadata": {
    "collapsed": false
   },
   "outputs": [
    {
     "data": {
      "text/html": [
       "<div>\n",
       "<table border=\"1\" class=\"dataframe\">\n",
       "  <thead>\n",
       "    <tr style=\"text-align: right;\">\n",
       "      <th></th>\n",
       "      <th>Dose</th>\n",
       "      <th>N</th>\n",
       "      <th>Efficacies</th>\n",
       "      <th>Toxicities</th>\n",
       "      <th>EffRate</th>\n",
       "      <th>ToxRate</th>\n",
       "      <th>P(Eff)</th>\n",
       "      <th>P(Tox)</th>\n",
       "      <th>P(AccEff)</th>\n",
       "      <th>P(AccTox)</th>\n",
       "      <th>Admissible</th>\n",
       "      <th>Utility</th>\n",
       "    </tr>\n",
       "  </thead>\n",
       "  <tbody>\n",
       "    <tr>\n",
       "      <th>0</th>\n",
       "      <td>1</td>\n",
       "      <td>0</td>\n",
       "      <td>0</td>\n",
       "      <td>0</td>\n",
       "      <td>NaN</td>\n",
       "      <td>NaN</td>\n",
       "      <td>0.169569</td>\n",
       "      <td>0.041893</td>\n",
       "      <td>0.131056</td>\n",
       "      <td>0.968148</td>\n",
       "      <td>True</td>\n",
       "      <td>-0.385060</td>\n",
       "    </tr>\n",
       "    <tr>\n",
       "      <th>1</th>\n",
       "      <td>2</td>\n",
       "      <td>0</td>\n",
       "      <td>0</td>\n",
       "      <td>0</td>\n",
       "      <td>NaN</td>\n",
       "      <td>NaN</td>\n",
       "      <td>0.209500</td>\n",
       "      <td>0.053362</td>\n",
       "      <td>0.120474</td>\n",
       "      <td>0.974309</td>\n",
       "      <td>True</td>\n",
       "      <td>-0.319252</td>\n",
       "    </tr>\n",
       "    <tr>\n",
       "      <th>2</th>\n",
       "      <td>3</td>\n",
       "      <td>3</td>\n",
       "      <td>1</td>\n",
       "      <td>1</td>\n",
       "      <td>0.333333</td>\n",
       "      <td>0.333333</td>\n",
       "      <td>0.379005</td>\n",
       "      <td>0.263953</td>\n",
       "      <td>0.365033</td>\n",
       "      <td>0.782415</td>\n",
       "      <td>True</td>\n",
       "      <td>-0.095079</td>\n",
       "    </tr>\n",
       "    <tr>\n",
       "      <th>3</th>\n",
       "      <td>4</td>\n",
       "      <td>0</td>\n",
       "      <td>0</td>\n",
       "      <td>0</td>\n",
       "      <td>NaN</td>\n",
       "      <td>NaN</td>\n",
       "      <td>0.510385</td>\n",
       "      <td>0.570060</td>\n",
       "      <td>0.487628</td>\n",
       "      <td>0.355802</td>\n",
       "      <td>True</td>\n",
       "      <td>-0.139662</td>\n",
       "    </tr>\n",
       "  </tbody>\n",
       "</table>\n",
       "</div>"
      ],
      "text/plain": [
       "   Dose  N  Efficacies  Toxicities   EffRate   ToxRate    P(Eff)    P(Tox)  \\\n",
       "0     1  0           0           0       NaN       NaN  0.169569  0.041893   \n",
       "1     2  0           0           0       NaN       NaN  0.209500  0.053362   \n",
       "2     3  3           1           1  0.333333  0.333333  0.379005  0.263953   \n",
       "3     4  0           0           0       NaN       NaN  0.510385  0.570060   \n",
       "\n",
       "   P(AccEff)  P(AccTox) Admissible   Utility  \n",
       "0   0.131056   0.968148       True -0.385060  \n",
       "1   0.120474   0.974309       True -0.319252  \n",
       "2   0.365033   0.782415       True -0.095079  \n",
       "3   0.487628   0.355802       True -0.139662  "
      ]
     },
     "execution_count": 48,
     "metadata": {},
     "output_type": "execute_result"
    }
   ],
   "source": [
    "et.tabulate()"
   ]
  },
  {
   "cell_type": "markdown",
   "metadata": {},
   "source": [
    "We see that all doses are admissible in this instance, and that the utilities of dose-levels 3 and 4 are very similar. _Dose Ambivalence_ is the likely result, i.e. after observing 3NTE in the Matchpoint trial, the design would have recommended dose 3 or dose 4. The reason is made plain by the plot below."
   ]
  },
  {
   "cell_type": "markdown",
   "metadata": {},
   "source": [
    "The posterior distributions of the utility of doses 3 and 4 largely occupy the same space so picking between them is difficult. In the Ambivalence.ipynb tutorial, we demonstrate a method for dealing with dose ambivalence.\n",
    "\n",
    "The plot above is similar (but not identical) to Figure 2 in the publication. I used the R package `ggplot2` to produce the plots for the paper because the R package is more mature than the Python version. For instance, I could not get a legend to appear in Python."
   ]
  },
  {
   "cell_type": "code",
   "execution_count": null,
   "metadata": {
    "collapsed": true
   },
   "outputs": [],
   "source": []
  }
 ],
 "metadata": {
  "kernelspec": {
   "display_name": "Python 2",
   "language": "python",
   "name": "python2"
  },
  "language_info": {
   "codemirror_mode": {
    "name": "ipython",
    "version": 2
   },
   "file_extension": ".py",
   "mimetype": "text/x-python",
   "name": "python",
   "nbconvert_exporter": "python",
   "pygments_lexer": "ipython2",
   "version": "2.7.11"
  }
 },
 "nbformat": 4,
 "nbformat_minor": 0
}
